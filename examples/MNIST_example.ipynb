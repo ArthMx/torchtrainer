{
 "cells": [
  {
   "cell_type": "code",
   "execution_count": 1,
   "metadata": {},
   "outputs": [],
   "source": [
    "import torch\n",
    "import torch.nn as nn\n",
    "import torch.nn.functional as F\n",
    "from torch.utils.data import DataLoader\n",
    "from torchvision import datasets, transforms\n",
    "from torchtrainer import Trainer"
   ]
  },
  {
   "cell_type": "code",
   "execution_count": 2,
   "metadata": {},
   "outputs": [],
   "source": [
    "class Net(nn.Module):\n",
    "    def __init__(self):\n",
    "        super().__init__()\n",
    "        self.conv1 = nn.Conv2d(1, 32, 3)\n",
    "        self.conv2 = nn.Conv2d(32, 64, 3)\n",
    "        self.dropout1 = nn.Dropout(0.25)\n",
    "        self.fc1 = nn.Linear(64 * 12 * 12, 128)\n",
    "        self.dropout2 = nn.Dropout(0.5)\n",
    "        self.fc2 = nn.Linear(128, 10)\n",
    "    \n",
    "    def forward(self, x):\n",
    "        x = F.relu(self.conv1(x))\n",
    "        x = F.relu(self.conv2(x))\n",
    "        x = F.max_pool2d(x, 2, 2)\n",
    "        x = self.dropout1(x.view(-1, self.fc1.in_features))\n",
    "        x = F.relu(self.fc1(x))\n",
    "        x = self.dropout2(x)\n",
    "        return F.log_softmax(self.fc2(x), 1)"
   ]
  },
  {
   "cell_type": "code",
   "execution_count": 3,
   "metadata": {
    "scrolled": true
   },
   "outputs": [],
   "source": [
    "transform = transforms.ToTensor()\n",
    "# Download MNIST dataset\n",
    "root_dir = \"data/\"\n",
    "train_dataset = datasets.MNIST(root_dir, train=True, transform=transform, \n",
    "                               download=True)\n",
    "test_dataset = datasets.MNIST(root_dir, train=False, transform=transform, \n",
    "                              download=True)\n",
    "\n",
    "# Make train and test Dataloader\n",
    "BATCH_SIZE = 128\n",
    "epochs = 50\n",
    "train_loader = DataLoader(train_dataset, batch_size=BATCH_SIZE, \n",
    "                         shuffle=True, num_workers=4)\n",
    "test_loader = DataLoader(test_dataset, batch_size=BATCH_SIZE, \n",
    "                        shuffle=False, num_workers=4)"
   ]
  },
  {
   "cell_type": "code",
   "execution_count": 4,
   "metadata": {},
   "outputs": [
    {
     "name": "stdout",
     "output_type": "stream",
     "text": [
      "Number of trainable parameters: 1199882\n"
     ]
    }
   ],
   "source": [
    "# Instanciate model and set optimizer and loss function\n",
    "net = Net()\n",
    "loss_fn = F.nll_loss\n",
    "optimizer = torch.optim.Adam(net.parameters(), lr=0.001)\n",
    "\n",
    "trainer = Trainer(net, loss_fn, optimizer)\n",
    "print(\"Number of trainable parameters: %d\" % trainer.get_num_parameters())"
   ]
  },
  {
   "cell_type": "code",
   "execution_count": 5,
   "metadata": {},
   "outputs": [
    {
     "name": "stdout",
     "output_type": "stream",
     "text": [
      "Epoch 1/50\n",
      "469/469 [====================] - 5s 738ms - t_loss: 0.2705 - t_acc: 91.9948 - v_loss: 0.0556 - v_acc: 98.2199\n",
      "Model improved, saved at models/checkpoint.tar\n",
      "Epoch 2/50\n",
      "469/469 [====================] - 5s 636ms - t_loss: 0.0902 - t_acc: 97.3781 - v_loss: 0.0420 - v_acc: 98.6254\n",
      "Model improved, saved at models/checkpoint.tar\n",
      "Epoch 3/50\n",
      "469/469 [====================] - 5s 752ms - t_loss: 0.0696 - t_acc: 97.9550 - v_loss: 0.0402 - v_acc: 98.6452\n",
      "Model improved, saved at models/checkpoint.tar\n",
      "Epoch 4/50\n",
      "469/469 [====================] - 5s 767ms - t_loss: 0.0605 - t_acc: 98.1238 - v_loss: 0.0338 - v_acc: 98.8430\n",
      "Model improved, saved at models/checkpoint.tar\n",
      "Epoch 5/50\n",
      "469/469 [====================] - 5s 683ms - t_loss: 0.0515 - t_acc: 98.4347 - v_loss: 0.0324 - v_acc: 98.9023\n",
      "Model improved, saved at models/checkpoint.tar\n",
      "Epoch 6/50\n",
      "469/469 [====================] - 5s 734ms - t_loss: 0.0450 - t_acc: 98.6335 - v_loss: 0.0335 - v_acc: 98.9419\n",
      "No improvement in 1 Epochs.\n",
      "Epoch 7/50\n",
      "469/469 [====================] - 5s 811ms - t_loss: 0.0392 - t_acc: 98.7112 - v_loss: 0.0301 - v_acc: 99.1297\n",
      "Model improved, saved at models/checkpoint.tar\n",
      "Epoch 8/50\n",
      "469/469 [====================] - 5s 675ms - t_loss: 0.0367 - t_acc: 98.8229 - v_loss: 0.0301 - v_acc: 99.0704\n",
      "Model improved, saved at models/checkpoint.tar\n",
      "Epoch 9/50\n",
      "469/469 [====================] - 5s 672ms - t_loss: 0.0345 - t_acc: 98.9034 - v_loss: 0.0275 - v_acc: 99.1199\n",
      "Model improved, saved at models/checkpoint.tar\n",
      "Epoch 10/50\n",
      "469/469 [====================] - 5s 706ms - t_loss: 0.0307 - t_acc: 98.9916 - v_loss: 0.0316 - v_acc: 99.1297\n",
      "No improvement in 1 Epochs.\n",
      "Epoch 11/50\n",
      "469/469 [====================] - 5s 750ms - t_loss: 0.0286 - t_acc: 99.0699 - v_loss: 0.0275 - v_acc: 99.1001\n",
      "Model improved, saved at models/checkpoint.tar\n",
      "Epoch 12/50\n",
      "469/469 [====================] - 5s 895ms - t_loss: 0.0264 - t_acc: 99.1171 - v_loss: 0.0307 - v_acc: 99.1594\n",
      "No improvement in 1 Epochs.\n",
      "Epoch 13/50\n",
      "469/469 [====================] - 5s 748ms - t_loss: 0.0258 - t_acc: 99.1627 - v_loss: 0.0344 - v_acc: 99.1199\n",
      "No improvement in 2 Epochs.\n",
      "Epoch 14/50\n",
      "469/469 [====================] - 5s 769ms - t_loss: 0.0212 - t_acc: 99.3270 - v_loss: 0.0327 - v_acc: 99.1100\n",
      "No improvement in 3 Epochs.\n",
      "Epoch 15/50\n",
      "469/469 [====================] - 5s 632ms - t_loss: 0.0197 - t_acc: 99.3220 - v_loss: 0.0315 - v_acc: 99.2286\n",
      "No improvement in 4 Epochs.\n",
      "Epoch 16/50\n",
      "469/469 [====================] - 5s 667ms - t_loss: 0.0208 - t_acc: 99.3137 - v_loss: 0.0313 - v_acc: 99.1594\n",
      "No improvement in 5 Epochs: Early Stopping.\n"
     ]
    },
    {
     "data": {
      "image/png": "[encoded data removed]",
      "text/plain": [
       "<Figure size 432x288 with 1 Axes>"
      ]
     },
     "metadata": {
      "needs_background": "light"
     },
     "output_type": "display_data"
    }
   ],
   "source": [
    "trainer.fit(train_loader, val_loader=test_loader, epochs=epochs, verbose=1,\n",
    "          checkpoint_path=\"models/checkpoint.tar\", plot_loss=True, early_stopping=5)"
   ]
  }
 ],
 "metadata": {
  "kernelspec": {
   "display_name": "Python 3",
   "language": "python",
   "name": "python3"
  },
  "language_info": {
   "codemirror_mode": {
    "name": "ipython",
    "version": 3
   },
   "file_extension": ".py",
   "mimetype": "text/x-python",
   "name": "python",
   "nbconvert_exporter": "python",
   "pygments_lexer": "ipython3",
   "version": "3.7.2"
  }
 },
 "nbformat": 4,
 "nbformat_minor": 2
}
