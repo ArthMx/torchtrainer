{
 "cells": [
  {
   "cell_type": "code",
   "execution_count": 1,
   "metadata": {},
   "outputs": [],
   "source": [
    "import torch\n",
    "import torch.nn as nn\n",
    "import torch.nn.functional as F\n",
    "from torch.utils.data import DataLoader\n",
    "from torchvision import datasets, transforms\n",
    "from torchtrainer import Trainer"
   ]
  },
  {
   "cell_type": "code",
   "execution_count": 2,
   "metadata": {},
   "outputs": [],
   "source": [
    "class Net(nn.Module):\n",
    "    def __init__(self):\n",
    "        super().__init__()\n",
    "        self.conv1 = nn.Conv2d(1, 32, 3)\n",
    "        self.conv2 = nn.Conv2d(32, 64, 3)\n",
    "        self.dropout1 = nn.Dropout(0.25)\n",
    "        self.fc1 = nn.Linear(64 * 12 * 12, 128)\n",
    "        self.dropout2 = nn.Dropout(0.5)\n",
    "        self.fc2 = nn.Linear(128, 10)\n",
    "    \n",
    "    def forward(self, x):\n",
    "        x = F.relu(self.conv1(x))\n",
    "        x = F.relu(self.conv2(x))\n",
    "        x = F.max_pool2d(x, 2, 2)\n",
    "        x = self.dropout1(x.view(-1, self.fc1.in_features))\n",
    "        x = F.relu(self.fc1(x))\n",
    "        x = self.dropout2(x)\n",
    "        return F.log_softmax(self.fc2(x), 1)"
   ]
  },
  {
   "cell_type": "code",
   "execution_count": 3,
   "metadata": {
    "scrolled": true
   },
   "outputs": [],
   "source": [
    "transform = transforms.ToTensor()\n",
    "# Download MNIST dataset\n",
    "root_dir = \"data/\"\n",
    "train_dataset = datasets.MNIST(root_dir, train=True, transform=transform, \n",
    "                               download=True)\n",
    "test_dataset = datasets.MNIST(root_dir, train=False, transform=transform, \n",
    "                              download=True)\n",
    "\n",
    "# Make train and test Dataloader\n",
    "BATCH_SIZE = 128\n",
    "epochs = 50\n",
    "train_loader = DataLoader(train_dataset, batch_size=BATCH_SIZE, \n",
    "                         shuffle=True, num_workers=4)\n",
    "test_loader = DataLoader(test_dataset, batch_size=BATCH_SIZE, \n",
    "                        shuffle=False, num_workers=4)"
   ]
  },
  {
   "cell_type": "code",
   "execution_count": 4,
   "metadata": {},
   "outputs": [
    {
     "name": "stdout",
     "output_type": "stream",
     "text": [
      "Number of trainable parameters: 1199882\n"
     ]
    }
   ],
   "source": [
    "# Instanciate model and set optimizer and loss function\n",
    "net = Net()\n",
    "loss_fn = F.nll_loss\n",
    "optimizer = torch.optim.Adam(net.parameters(), lr=0.001)\n",
    "\n",
    "trainer = Trainer(net, loss_fn, optimizer)\n",
    "print(\"Number of trainable parameters: %d\" % trainer.get_num_parameters())"
   ]
  },
  {
   "cell_type": "code",
   "execution_count": 5,
   "metadata": {},
   "outputs": [
    {
     "name": "stdout",
     "output_type": "stream",
     "text": [
      "Epoch 1/50\n",
      "16.832s - train loss: 0.2714 - train acc: 91.6089 - val loss: 0.0613 - val acc: 98.0123                                                                                              \n",
      "Model improved, saved at models/checkpoint.tar\n",
      "Epoch 2/50\n",
      "17.348s - train loss: 0.0967 - train acc: 97.0954 - val loss: 0.0404 - val acc: 98.6353                                                                                              \n",
      "Model improved, saved at models/checkpoint.tar\n",
      "Epoch 3/50\n",
      "16.809s - train loss: 0.0735 - train acc: 97.8489 - val loss: 0.0334 - val acc: 98.9023                                                                                              \n",
      "Model improved, saved at models/checkpoint.tar\n",
      "Epoch 4/50\n",
      "16.856s - train loss: 0.0620 - train acc: 98.0749 - val loss: 0.0345 - val acc: 98.9913                                                                                               \n",
      "No improvement in 1 Epochs.\n",
      "Epoch 5/50\n",
      "17.070s - train loss: 0.0518 - train acc: 98.4147 - val loss: 0.0326 - val acc: 98.8924                                                                                               \n",
      "Model improved, saved at models/checkpoint.tar\n",
      "Epoch 6/50\n",
      "17.154s - train loss: 0.0450 - train acc: 98.5819 - val loss: 0.0300 - val acc: 99.0704                                                                                               \n",
      "Model improved, saved at models/checkpoint.tar\n",
      "Epoch 7/50\n",
      "17.086s - train loss: 0.0399 - train acc: 98.7351 - val loss: 0.0283 - val acc: 99.1792                                                                                               \n",
      "Model improved, saved at models/checkpoint.tar\n",
      "Epoch 8/50\n",
      "17.232s - train loss: 0.0366 - train acc: 98.8301 - val loss: 0.0296 - val acc: 99.0210                                                                                               \n",
      "No improvement in 1 Epochs.\n",
      "Epoch 9/50\n",
      "17.108s - train loss: 0.0314 - train acc: 98.9855 - val loss: 0.0281 - val acc: 99.0704                                                                                               \n",
      "Model improved, saved at models/checkpoint.tar\n",
      "Epoch 10/50\n",
      "17.156s - train loss: 0.0320 - train acc: 98.9639 - val loss: 0.0283 - val acc: 99.0902                                                                                               \n",
      "No improvement in 1 Epochs.\n",
      "Epoch 11/50\n",
      "17.062s - train loss: 0.0295 - train acc: 99.0105 - val loss: 0.0281 - val acc: 99.2188                                                                                               \n",
      "Model improved, saved at models/checkpoint.tar\n",
      "Epoch 12/50\n",
      "16.714s - train loss: 0.0276 - train acc: 99.1366 - val loss: 0.0264 - val acc: 99.3275                                                                                               \n",
      "Model improved, saved at models/checkpoint.tar\n",
      "Epoch 13/50\n",
      "15.915s - train loss: 0.0247 - train acc: 99.1477 - val loss: 0.0277 - val acc: 99.2286                                                                                               \n",
      "No improvement in 1 Epochs.\n",
      "Epoch 14/50\n",
      "16.175s - train loss: 0.0231 - train acc: 99.2015 - val loss: 0.0302 - val acc: 99.2880                                                                                               \n",
      "No improvement in 2 Epochs.\n",
      "Epoch 15/50\n",
      "16.446s - train loss: 0.0220 - train acc: 99.2615 - val loss: 0.0283 - val acc: 99.2583                                                                                               \n",
      "No improvement in 3 Epochs.\n",
      "Epoch 16/50\n",
      "15.442s - train loss: 0.0215 - train acc: 99.2848 - val loss: 0.0286 - val acc: 99.3275                                                                                               \n",
      "No improvement in 4 Epochs.\n",
      "Epoch 17/50\n",
      "15.565s - train loss: 0.0195 - train acc: 99.3465 - val loss: 0.0272 - val acc: 99.2979                                                                                              \n",
      "No improvement in 5 Epochs: Early Stopping.\n"
     ]
    },
    {
     "data": {
      "image/png": "[encoded data removed]",
      "text/plain": [
       "<Figure size 432x288 with 1 Axes>"
      ]
     },
     "metadata": {
      "needs_background": "light"
     },
     "output_type": "display_data"
    }
   ],
   "source": [
    "trainer.fit(train_loader, val_loader=test_loader, epochs=epochs, verbose=1,\n",
    "          checkpoint_path=\"models/checkpoint.tar\", plot_loss=True, early_stopping=5)"
   ]
  }
 ],
 "metadata": {
  "kernelspec": {
   "display_name": "Python 3",
   "language": "python",
   "name": "python3"
  },
  "language_info": {
   "codemirror_mode": {
    "name": "ipython",
    "version": 3
   },
   "file_extension": ".py",
   "mimetype": "text/x-python",
   "name": "python",
   "nbconvert_exporter": "python",
   "pygments_lexer": "ipython3",
   "version": "3.7.2"
  }
 },
 "nbformat": 4,
 "nbformat_minor": 2
}
